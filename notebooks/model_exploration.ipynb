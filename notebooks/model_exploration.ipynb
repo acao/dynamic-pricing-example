{
 "cells": [
  {
   "cell_type": "markdown",
   "metadata": {},
   "source": [
    "# Insurance Pricing Model Exploration\n",
    "\n",
    "This notebook explores the insurance pricing model, including data generation, feature engineering, model training, and evaluation."
   ]
  },
  {
   "cell_type": "code",
   "execution_count": null,
   "metadata": {},
   "outputs": [],
   "source": [
    "# Import libraries\n",
    "import os\n",
    "import sys\n",
    "import numpy as np\n",
    "import pandas as pd\n",
    "import matplotlib.pyplot as plt\n",
    "import seaborn as sns\n",
    "from datetime import date, datetime, timedelta\n",
    "from sklearn.tree import DecisionTreeRegressor, plot_tree\n",
    "from sklearn.ensemble import RandomForestRegressor\n",
    "from sklearn.metrics import mean_squared_error, mean_absolute_error, r2_score\n",
    "from sklearn.model_selection import train_test_split\n",
    "\n",
    "# Add project root to path\n",
    "sys.path.append('..')\n",
    "\n",
    "# Import project modules\n",
    "from src.data.generator import InsuranceDataGenerator\n",
    "from src.ml.model import InsurancePricingModel, PricingService\n",
    "from src.ml.features import FeatureProcessor\n",
    "from src.ml.models import (\n",
    "    Driver, DrivingHistory, Gender, IncidentSeverity, IncidentType,\n",
    "    Location, MaritalStatus, Policy, PricingFactors, Vehicle, VehicleUse\n",
    ")"
   ]
  },
  {
   "cell_type": "markdown",
   "metadata": {},
   "source": [
    "## Data Generation\n",
    "\n",
    "First, let's generate some synthetic data for training and testing the model."
   ]
  },
  {
   "cell_type": "code",
   "execution_count": null,
   "metadata": {},
   "outputs": [],
   "source": [
    "# Create data generator\n",
    "data_generator = InsuranceDataGenerator(seed=42)\n",
    "\n",
    "# Generate policies and premiums\n",
    "num_policies = 1000\n",
    "policies, premiums = data_generator.generate_dataset(num_policies)\n",
    "\n",
    "print(f\"Generated {len(policies)} policies with premiums\")"
   ]
  },
  {
   "cell_type": "markdown",
   "metadata": {},
   "source": [
    "Let's examine a sample policy to understand the data structure."
   ]
  },
  {
   "cell_type": "code",
   "execution_count": null,
   "metadata": {},
   "outputs": [],
   "source": [
    "# Examine a sample policy\n",
    "sample_policy = policies[0]\n",
    "\n",
    "print(f\"Policy ID: {sample_policy.policy_id}\")\n",
    "print(f\"Effective Date: {sample_policy.effective_date}\")\n",
    "print(f\"Expiration Date: {sample_policy.expiration_date}\")\n",
    "print(f\"Number of Drivers: {len(sample_policy.drivers)}\")\n",
    "print(f\"Number of Vehicles: {len(sample_policy.vehicles)}\")\n",
    "print(f\"Number of Locations: {len(sample_policy.locations)}\")\n",
    "print(f\"Number of Driving History Incidents: {len(sample_policy.driving_history)}\")"
   ]
  },
  {
   "cell_type": "code",
   "execution_count": null,
   "metadata": {},
   "outputs": [],
   "source": [
    "# Examine a sample driver\n",
    "sample_driver = sample_policy.drivers[0]\n",
    "\n",
    "print(f\"Driver: {sample_driver.first_name} {sample_driver.last_name}\")\n",
    "print(f\"Date of Birth: {sample_driver.date_of_birth}\")\n",
    "print(f\"Age: {sample_driver.age}\")\n",
    "print(f\"Gender: {sample_driver.gender}\")\n",
    "print(f\"Marital Status: {sample_driver.marital_status}\")\n",
    "print(f\"Occupation: {sample_driver.occupation}\")\n",
    "print(f\"License Number: {sample_driver.license_number}\")\n",
    "print(f\"License Issue Date: {sample_driver.license_issue_date}\")\n",
    "print(f\"Driving Experience: {sample_driver.driving_experience} years\")"
   ]
  },
  {
   "cell_type": "code",
   "execution_count": null,
   "metadata": {},
   "outputs": [],
   "source": [
    "# Examine a sample vehicle\n",
    "sample_vehicle = sample_policy.vehicles[0]\n",
    "\n",
    "print(f\"Vehicle: {sample_vehicle.year} {sample_vehicle.make} {sample_vehicle.model}\")\n",
    "print(f\"VIN: {sample_vehicle.vin}\")\n",
    "print(f\"Value: ${sample_vehicle.value:.2f}\")\n",
    "print(f\"Primary Use: {sample_vehicle.primary_use}\")\n",
    "print(f\"Annual Mileage: {sample_vehicle.annual_mileage}\")\n",
    "print(f\"Anti-Theft Device: {sample_vehicle.anti_theft_device}\")\n",
    "print(f\"Vehicle Age: {sample_vehicle.vehicle_age} years\")"
   ]
  },
  {
   "cell_type": "markdown",
   "metadata": {},
   "source": [
    "Let's look at the distribution of premiums."
   ]
  },
  {
   "cell_type": "code",
   "execution_count": null,
   "metadata": {},
   "outputs": [],
   "source": [
    "# Plot premium distribution\n",
    "plt.figure(figsize=(10, 6))\n",
    "plt.hist(premiums, bins=30, alpha=0.7)\n",
    "plt.axvline(np.mean(premiums), color='red', linestyle='dashed', linewidth=1, label=f'Mean: ${np.mean(premiums):.2f}')\n",
    "plt.axvline(np.median(premiums), color='green', linestyle='dashed', linewidth=1, label=f'Median: ${np.median(premiums):.2f}')\n",
    "plt.xlabel('Premium ($)')\n",
    "plt.ylabel('Frequency')\n",
    "plt.title('Distribution of Insurance Premiums')\n",
    "plt.legend()\n",
    "plt.grid(True, alpha=0.3)\n",
    "plt.show()\n",
    "\n",
    "# Print premium statistics\n",
    "print(f\"Premium Statistics:\")\n",
    "print(f\"Mean: ${np.mean(premiums):.2f}\")\n",
    "print(f\"Median: ${np.median(premiums):.2f}\")\n",
    "print(f\"Min: ${np.min(premiums):.2f}\")\n",
    "print(f\"Max: ${np.max(premiums):.2f}\")\n",
    "print(f\"Standard Deviation: ${np.std(premiums):.2f}\")"
   ]
  },
  {
   "cell_type": "markdown",
   "metadata": {},
   "source": [
    "## Feature Engineering\n",
    "\n",
    "Now let's explore the feature engineering process. The `FeatureProcessor` class transforms the raw policy data into features that can be used by the machine learning model."
   ]
  },
  {
   "cell_type": "code",
   "execution_count": null,
   "metadata": {},
   "outputs": [],
   "source": [
    "# Create feature processor\n",
    "feature_processor = FeatureProcessor()\n",
    "\n",
    "# Fit and transform the data\n",
    "X = feature_processor.fit_transform(policies)\n",
    "\n",
    "# Get feature names\n",
    "feature_names = feature_processor.feature_names\n",
    "\n",
    "print(f\"Number of features: {len(feature_names)}\")\n",
    "print(f\"Feature matrix shape: {X.shape}\")"
   ]
  },
  {
   "cell_type": "code",
   "execution_count": null,
   "metadata": {},
   "outputs": [],
   "source": [
    "# Display the first 20 feature names\n",
    "print(\"First 20 features:\")\n",
    "for i, feature in enumerate(feature_names[:20]):\n",
    "    print(f\"{i+1}. {feature}\")"
   ]
  },
  {
   "cell_type": "markdown",
   "metadata": {},
   "source": [
    "## Model Training\n",
    "\n",
    "Now let's train the insurance pricing model using the generated data."
   ]
  },
  {
   "cell_type": "code",
   "execution_count": null,
   "metadata": {},
   "outputs": [],
   "source": [
    "# Split the data into training and testing sets\n",
    "X_train, X_test, y_train, y_test = train_test_split(\n",
    "    X, premiums, test_size=0.2, random_state=42\n",
    ")\n",
    "\n",
    "print(f\"Training set size: {X_train.shape[0]}\")\n",
    "print(f\"Testing set size: {X_test.shape[0]}\")"
   ]
  },
  {
   "cell_type": "code",
   "execution_count": null,
   "metadata": {},
   "outputs": [],
   "source": [
    "# Train a decision tree model\n",
    "dt_model = DecisionTreeRegressor(max_depth=10, random_state=42)\n",
    "dt_model.fit(X_train, y_train)\n",
    "\n",
    "# Make predictions\n",
    "dt_pred = dt_model.predict(X_test)\n",
    "\n",
    "# Calculate metrics\n",
    "dt_mse = mean_squared_error(y_test, dt_pred)\n",
    "dt_rmse = np.sqrt(dt_mse)\n",
    "dt_mae = mean_absolute_error(y_test, dt_pred)\n",
    "dt_r2 = r2_score(y_test, dt_pred)\n",
    "\n",
    "print(f\"Decision Tree Metrics:\")\n",
    "print(f\"MSE: {dt_mse:.2f}\")\n",
    "print(f\"RMSE: {dt_rmse:.2f}\")\n",
    "print(f\"MAE: {dt_mae:.2f}\")\n",
    "print(f\"R²: {dt_r2:.4f}\")"
   ]
  },
  {
   "cell_type": "code",
   "execution_count": null,
   "metadata": {},
   "outputs": [],
   "source": [
    "# Train a random forest model\n",
    "rf_model = RandomForestRegressor(n_estimators=100, max_depth=10, random_state=42)\n",
    "rf_model.fit(X_train, y_train)\n",
    "\n",
    "# Make predictions\n",
    "rf_pred = rf_model.predict(X_test)\n",
    "\n",
    "# Calculate metrics\n",
    "rf_mse = mean_squared_error(y_test, rf_pred)\n",
    "rf_rmse = np.sqrt(rf_mse)\n",
    "rf_mae = mean_absolute_error(y_test, rf_pred)\n",
    "rf_r2 = r2_score(y_test, rf_pred)\n",
    "\n",
    "print(f\"Random Forest Metrics:\")\n",
    "print(f\"MSE: {rf_mse:.2f}\")\n",
    "print(f\"RMSE: {rf_rmse:.2f}\")\n",
    "print(f\"MAE: {rf_mae:.2f}\")\n",
    "print(f\"R²: {rf_r2:.4f}\")"
   ]
  },
  {
   "cell_type": "markdown",
   "metadata": {},
   "source": [
    "Let's compare the predictions of both models."
   ]
  },
  {
   "cell_type": "code",
   "execution_count": null,
   "metadata": {},
   "outputs": [],
   "source": [
    "# Plot predictions vs actual\n",
    "plt.figure(figsize=(12, 6))\n",
    "\n",
    "plt.subplot(1, 2, 1)\n",
    "plt.scatter(y_test, dt_pred, alpha=0.5)\n",
    "plt.plot([min(y_test), max(y_test)], [min(y_test), max(y_test)], 'r--')\n",
    "plt.xlabel('Actual Premium')\n",
    "plt.ylabel('Predicted Premium')\n",
    "plt.title('Decision Tree: Actual vs Predicted')\n",
    "plt.grid(True, alpha=0.3)\n",
    "\n",
    "plt.subplot(1, 2, 2)\n",
    "plt.scatter(y_test, rf_pred, alpha=0.5)\n",
    "plt.plot([min(y_test), max(y_test)], [min(y_test), max(y_test)], 'r--')\n",
    "plt.xlabel('Actual Premium')\n",
    "plt.ylabel('Predicted Premium')\n",
    "plt.title('Random Forest: Actual vs Predicted')\n",
    "plt.grid(True, alpha=0.3)\n",
    "\n",
    "plt.tight_layout()\n",
    "plt.show()"
   ]
  },
  {
   "cell_type": "markdown",
   "metadata": {},
   "source": [
    "## Feature Importance\n",
    "\n",
    "Let's examine the feature importance to understand which factors have the most impact on the premium."
   ]
  },
  {
   "cell_type": "code",
   "execution_count": null,
   "metadata": {},
   "outputs": [],
   "source": [
    "# Get feature importances\n",
    "dt_importances = dt_model.feature_importances_\n",
    "rf_importances = rf_model.feature_importances_\n",
    "\n",
    "# Create DataFrames for feature importances\n",
    "dt_importance_df = pd.DataFrame({\n",
    "    'Feature': feature_names,\n",
    "    'Importance': dt_importances\n",
    "}).sort_values('Importance', ascending=False)\n",
    "\n",
    "rf_importance_df = pd.DataFrame({\n",
    "    'Feature': feature_names,\n",
    "    'Importance': rf_importances\n",
    "}).sort_values('Importance', ascending=False)\n",
    "\n",
    "# Display top 20 features for each model\n",
    "print(\"Top 20 Features (Decision Tree):\")\n",
    "display(dt_importance_df.head(20))\n",
    "\n",
    "print(\"\\nTop 20 Features (Random Forest):\")\n",
    "display(rf_importance_df.head(20))"
   ]
  },
  {
   "cell_type": "code",
   "execution_count": null,
   "metadata": {},
   "outputs": [],
   "source": [
    "# Plot feature importances\n",
    "plt.figure(figsize=(12, 10))\n",
    "\n",
    "plt.subplot(2, 1, 1)\n",
    "sns.barplot(x='Importance', y='Feature', data=dt_importance_df.head(15))\n",
    "plt.title('Decision Tree: Top 15 Feature Importances')\n",
    "plt.grid(True, alpha=0.3)\n",
    "\n",
    "plt.subplot(2, 1, 2)\n",
    "sns.barplot(x='Importance', y='Feature', data=rf_importance_df.head(15))\n",
    "plt.title('Random Forest: Top 15 Feature Importances')\n",
    "plt.grid(True, alpha=0.3)\n",
    "\n",
    "plt.tight_layout()\n",
    "plt.show()"
   ]
  },
  {
   "cell_type": "markdown",
   "metadata": {},
   "source": [
    "## Using the InsurancePricingModel Class\n",
    "\n",
    "Now let's use the `InsurancePricingModel` class to train and evaluate the model."
   ]
  },
  {
   "cell_type": "code",
   "execution_count": null,
   "metadata": {},
   "outputs": [],
   "source": [
    "# Create and train the model\n",
    "model = InsurancePricingModel(model_type=\"decision_tree\", model_params={\"max_depth\": 10})\n",
    "metrics = model.train(policies, premiums, test_size=0.2, random_state=42)\n",
    "\n",
    "print(f\"Model Metrics:\")\n",
    "for metric, value in metrics.items():\n",
    "    print(f\"{metric}: {value:.4f}\")"
   ]
  },
  {
   "cell_type": "code",
   "execution_count": null,
   "metadata": {},
   "outputs": [],
   "source": [
    "# Get feature importances\n",
    "importances = model.feature_importances\n",
    "\n",
    "# Create DataFrame for feature importances\n",
    "importance_df = pd.DataFrame({\n",
    "    'Feature': list(importances.keys()),\n",
    "    'Importance': list(importances.values())\n",
    "}).sort_values('Importance', ascending=False)\n",
    "\n",
    "# Display top 20 features\n",
    "print(\"Top 20 Features:\")\n",
    "display(importance_df.head(20))"
   ]
  },
  {
   "cell_type": "markdown",
   "metadata": {},
   "source": [
    "## Pricing Service\n",
    "\n",
    "Now let's use the `PricingService` class to calculate premiums for policies."
   ]
  },
  {
   "cell_type": "code",
   "execution_count": null,
   "metadata": {},
   "outputs": [],
   "source": [
    "# Create pricing service\n",
    "service = PricingService(model=model, base_premium=1000.0)\n",
    "\n",
    "# Generate a new policy\n",
    "new_policy = data_generator.generate_policy()\n",
    "\n",
    "# Calculate premium\n",
    "premium, factors = service.calculate_premium(new_policy)\n",
    "\n",
    "print(f\"Premium: ${premium:.2f}\")\n",
    "print(f\"Factors:\")\n",
    "for factor, value in factors.items():\n",
    "    print(f\"{factor}: {value:.4f}\")"
   ]
  },
  {
   "cell_type": "markdown",
   "metadata": {},
   "source": [
    "Let's calculate premiums for multiple policies and analyze the results."
   ]
  },
  {
   "cell_type": "code",
   "execution_count": null,
   "metadata": {},
   "outputs": [],
   "source": [
    "# Generate multiple policies\n",
    "num_policies = 100\n",
    "test_policies = [data_generator.generate_policy() for _ in range(num_policies)]\n",
    "\n",
    "# Calculate premiums\n",
    "results = [service.calculate_premium(policy) for policy in test_policies]\n",
    "test_premiums = [result[0] for result in results]\n",
    "test_factors = [result[1] for result in results]\n",
    "\n",
    "# Plot premium distribution\n",
    "plt.figure(figsize=(10, 6))\n",
    "plt.hist(test_premiums, bins=20, alpha=0.7)\n",
    "plt.axvline(np.mean(test_premiums), color='red', linestyle='dashed', linewidth=1, label=f'Mean: ${np.mean(test_premiums):.2f}')\n",
    "plt.axvline(np.median(test_premiums), color='green', linestyle='dashed', linewidth=1, label=f'Median: ${np.median(test_premiums):.2f}')\n",
    "plt.xlabel('Premium ($)')\n",
    "plt.ylabel('Frequency')\n",
    "plt.title('Distribution of Calculated Premiums')\n",
    "plt.legend()\n",
    "plt.grid(True, alpha=0.3)\n",
    "plt.show()\n",
    "\n",
    "# Print premium statistics\n",
    "print(f\"Premium Statistics:\")\n",
    "print(f\"Mean: ${np.mean(test_premiums):.2f}\")\n",
    "print(f\"Median: ${np.median(test_premiums):.2f}\")\n",
    "print(f\"Min: ${np.min(test_premiums):.2f}\")\n",
    "print(f\"Max: ${np.max(test_premiums):.2f}\")\n",
    "print(f\"Standard Deviation: ${np.std(test_premiums):.2f}\")"
   ]
  },
  {
   "cell_type": "code",
   "execution_count": null,
   "metadata": {},
   "outputs": [],
   "source": [
    "# Analyze factors\n",
    "factor_names = list(test_factors[0].keys())\n",
    "factor_values = {}\n",
    "\n",
    "for factor in factor_names:\n",
    "    factor_values[factor] = [factors.get(factor, 0) for factors in test_factors]\n",
    "\n",
    "# Create DataFrame for factors\n",
    "factor_df = pd.DataFrame(factor_values)\n",
    "\n",
    "# Display factor statistics\n",
    "print(\"Factor Statistics:\")\n",
    "display(factor_df.describe())\n",
    "\n",
    "# Plot factor distributions\n",
    "plt.figure(figsize=(15, 10))\n",
    "for i, factor in enumerate(factor_names):\n",
    "    plt.subplot(3, 3, i+1)\n",
    "    plt.hist(factor_values[factor], bins=20, alpha=0.7)\n",
    "    plt.xlabel(factor)\n",
    "    plt.ylabel('Frequency')\n",
    "    plt.title(f'Distribution of {factor}')\n",
    "    plt.grid(True, alpha=0.3)\n",
    "\n",
    "plt.tight_layout()\n",
    "plt.show()"
   ]
  },
  {
   "cell_type": "markdown",
   "metadata": {},
   "source": [
    "## Correlation Analysis\n",
    "\n",
    "Let's analyze the correlation between different factors and the premium."
   ]
  },
  {
   "cell_type": "code",
   "execution_count": null,
   "metadata": {},
   "outputs": [],
   "source": [
    "# Add premium to factor DataFrame\n",
    "factor_df['premium'] = test_premiums\n",
    "\n",
    "# Calculate correlation with premium\n",
    "correlation = factor_df.corr()['premium'].sort_values(ascending=False)\n",
    "\n",
    "print(\"Correlation with Premium:\")\n",
    "display(correlation)\n",
    "\n",
    "# Plot correlation\n",
    "plt.figure(figsize=(10, 6))\n",
    "correlation.drop('premium').plot(kind='bar')\n",
    "plt.xlabel('Factor')\n",
    "plt.ylabel('Correlation with Premium')\n",
    "plt.title('Correlation of Factors with Premium')\n",
    "plt.grid(True, alpha=0.3)\n",
    "plt.xticks(rotation=45, ha='right')\n",
    "plt.tight_layout()\n",
    "plt.show()"
   ]
  },
  {
   "cell_type": "markdown",
   "metadata": {},
   "source": [
    "## Model Serialization\n",
    "\n",
    "Let's save and load the model to demonstrate serialization."
   ]
  },
  {
   "cell_type": "code",
   "execution_count": null,
   "metadata": {},
   "outputs": [],
   "source": [
    "# Create a temporary directory\n",
    "import tempfile\n",
    "temp_dir = tempfile.TemporaryDirectory()\n",
    "\n",
    "# Save the model\n",
    "model_path = model.save(temp_dir.name)\n",
    "print(f\"Model saved to {model_path}\")\n",
    "\n",
    "# Load the model\n",
    "loaded_model = InsurancePricingModel(model_path=model_path)\n",
    "print(f\"Model loaded from {model_path}\")\n",
    "\n",
    "# Compare predictions\n",
    "original_pred = model.predict([new_policy])[0]\n",
    "loaded_pred = loaded_model.predict([new_policy])[0]\n",
    "\n",
    "print(f\"Original prediction: {original_pred:.4f}\")\n",
    "print(f\"Loaded prediction: {loaded_pred:.4f}\")\n",
    "print(f\"Difference: {abs(original_pred - loaded_pred):.4f}\")\n",
    "\n",
    "# Clean up\n",
    "temp_dir.cleanup()"
   ]
  },
  {
   "cell_type": "markdown",
   "metadata": {},
   "source": [
    "## Conclusion\n",
    "\n",
    "In this notebook, we explored the insurance pricing model, including data generation, feature engineering, model training, and evaluation. We found that the model can accurately predict insurance premiums based on various factors such as driver demographics, vehicle characteristics, driving history, and location."
   ]
  }
 ],
 "metadata": {
  "kernelspec": {
   "display_name": "Python 3",
   "language": "python",
   "name": "python3"
  },
  "language_info": {
   "codemirror_mode": {
    "name": "ipython",
    "version": 3
   },
   "file_extension": ".py",
   "mimetype": "text/x-python",
   "name": "python",
   "nbconvert_exporter": "python",
   "pygments_lexer": "ipython3",
   "version": "3.9.7"
  }
 },
 "nbformat": 4,
 "nbformat_minor": 4
}
